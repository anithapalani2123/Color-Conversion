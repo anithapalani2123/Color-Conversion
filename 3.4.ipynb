{
 "cells": [
  {
   "cell_type": "code",
   "execution_count": null,
   "id": "867da9ea",
   "metadata": {},
   "outputs": [],
   "source": [
    "import cv2\n",
    "image = cv2.imread('exp3pic.PNG')\n",
    "blue=image[:,:,0]\n",
    "green=image[:,:,1]\n",
    "red=image[:,:,2]\n",
    "cv2.imshow('B-Channel',blue)\n",
    "cv2.imshow('G-Channel',green)\n",
    "cv2.imshow('R-Channel',red)\n",
    "merged_BGR=cv2.merge((blue,green,red))\n",
    "cv2.imshow('Merged BGR Image',merged_BGR)\n",
    "cv2.waitKey(0)\n",
    "cv2.destoryAllWindows()"
   ]
  },
  {
   "cell_type": "code",
   "execution_count": null,
   "id": "0da0c847",
   "metadata": {},
   "outputs": [],
   "source": []
  }
 ],
 "metadata": {
  "kernelspec": {
   "display_name": "Python 3 (ipykernel)",
   "language": "python",
   "name": "python3"
  },
  "language_info": {
   "codemirror_mode": {
    "name": "ipython",
    "version": 3
   },
   "file_extension": ".py",
   "mimetype": "text/x-python",
   "name": "python",
   "nbconvert_exporter": "python",
   "pygments_lexer": "ipython3",
   "version": "3.8.12"
  }
 },
 "nbformat": 4,
 "nbformat_minor": 5
}
